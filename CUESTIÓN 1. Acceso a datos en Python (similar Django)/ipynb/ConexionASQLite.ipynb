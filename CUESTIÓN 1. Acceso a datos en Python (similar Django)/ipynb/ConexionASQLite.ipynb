{
 "cells": [
  {
   "cell_type": "markdown",
   "id": "31bce1ec",
   "metadata": {},
   "source": [
    "Importamos las librerias"
   ]
  },
  {
   "cell_type": "code",
   "execution_count": 24,
   "id": "7b73f3c8",
   "metadata": {},
   "outputs": [],
   "source": [
    "from subprocess import check_output\n",
    "comando = \"pip install tabulate\"\n",
    "check_output(comando, shell=True)\n",
    "import sqlite3\n",
    "from sqlite3 import Error\n",
    "from tabulate import tabulate"
   ]
  },
  {
   "cell_type": "markdown",
   "id": "6704ffc5",
   "metadata": {},
   "source": [
    "Método para conectarse a la base de datos"
   ]
  },
  {
   "cell_type": "code",
   "execution_count": 25,
   "id": "528b6aff",
   "metadata": {},
   "outputs": [],
   "source": [
    "def sql_connection():\n",
    "\n",
    "    try:\n",
    "\n",
    "        con = sqlite3.connect('tienda.db')\n",
    "\n",
    "        return con\n",
    "\n",
    "    except Error:\n",
    "\n",
    "        print(Error)"
   ]
  },
  {
   "cell_type": "markdown",
   "id": "8fc92ae2",
   "metadata": {},
   "source": [
    "Método para crear la tabla"
   ]
  },
  {
   "cell_type": "code",
   "execution_count": 26,
   "id": "f378fd29",
   "metadata": {},
   "outputs": [],
   "source": [
    "def sql_Creartabla(con):\n",
    "\n",
    "    cursorObj = con.cursor()\n",
    "    try:\n",
    "        cursorObj.execute(\"CREATE TABLE clientes(id integer PRIMARY KEY AUTOINCREMENT, nombre text, apellidos, telefono text)\")\n",
    "    except:\n",
    "        print(\"La tabla ya ha sido creada\")\n",
    "    con.commit()"
   ]
  },
  {
   "cell_type": "markdown",
   "id": "aa3abcd8",
   "metadata": {},
   "source": [
    "Método para añadir un cliente a la tabla"
   ]
  },
  {
   "cell_type": "code",
   "execution_count": 27,
   "id": "ec172e81",
   "metadata": {},
   "outputs": [],
   "source": [
    "def sql_añadirCliente(con):\n",
    "    cursorObj = con.cursor()\n",
    "    print(\"Añadir un cliente:\")\n",
    "    nombre=input(\"Introduce el nombre:\")\n",
    "    nombre=nombre.lower()\n",
    "    apellidos = input(\"Introduce los 2 apellidos:\")\n",
    "    apellidos=apellidos.lower()\n",
    "    telefono = input(\"Introduce el telefono:\")\n",
    "\n",
    "    try:\n",
    "        cursorObj.execute(f\"INSERT INTO clientes ('nombre','apellidos','telefono') VALUES('{nombre}','{apellidos}','{telefono}')\")\n",
    "        con.commit()\n",
    "    except:\n",
    "        print(\"Ha habido un error con los datos introducidos\")"
   ]
  },
  {
   "cell_type": "markdown",
   "id": "377d6905",
   "metadata": {},
   "source": [
    "Método que modifica un registro de la tabla"
   ]
  },
  {
   "cell_type": "code",
   "execution_count": 28,
   "id": "27330604",
   "metadata": {},
   "outputs": [],
   "source": [
    "def sql_update(con):\n",
    "    resfiltro1=input(\"Introduzca el id del cliente que desea modificar\\n\")\n",
    "    filtro2= input(\"¿Que quieres cambiar?\\nnombre\\nappellidos\\ntelefono\\n\")\n",
    "    filtro2=filtro2.lower()\n",
    "    resfiltro2=input(f\"Introduce el nuevo\\n\")\n",
    "    resfiltro2=resfiltro2.lower()\n",
    "\n",
    "    cursorObj = con.cursor()\n",
    "    try:\n",
    "        cursorObj.execute(f'UPDATE clientes SET {filtro2} = \"{resfiltro2}\" where id = {resfiltro1}')\n",
    "        con.commit()\n",
    "    except:\n",
    "        print(\"Ha habido un error con los datos introducidos\")"
   ]
  },
  {
   "cell_type": "markdown",
   "id": "2459c2f7",
   "metadata": {},
   "source": [
    "Metodo para mostrar los registros de la tabla"
   ]
  },
  {
   "cell_type": "code",
   "execution_count": 36,
   "id": "3dc37e47",
   "metadata": {},
   "outputs": [],
   "source": [
    "def sql_select(con):\n",
    "    filtros=input(\"Introduzca las columnas que desea ver separadas por',' o si quiere ver todo introduzca '*'\\n\")\n",
    "    filtros=filtros.lower()\n",
    "    cursorObj = con.cursor()\n",
    "    try:\n",
    "        mostrar=f'SELECT id,{filtros} FROM clientes' if filtros!=\"*\" else f'SELECT{filtros} FROM clientes'\n",
    "        cursorObj.execute(mostrar)\n",
    "        imprimir=[]\n",
    "\n",
    "        nombreColum = list(map(lambda x: x[0], cursorObj.description))\n",
    "\n",
    "        for row in cursorObj.fetchall():\n",
    "            i = 0\n",
    "            cliente=[]\n",
    "            for colums in row:\n",
    "                cliente.append(row[i])\n",
    "                i += 1\n",
    "            imprimir.append(cliente)\n",
    "\n",
    "        salida=tabulate(imprimir,headers=nombreColum) if filtros!=\"*\" else tabulate(imprimir,headers=[\"id\", \"nombre\",\"apellidos\",\"telefono\"])\n",
    "        print(salida)\n",
    "    except:\n",
    "        print(\"Ha habido un error con los datos introducidos\")"
   ]
  },
  {
   "cell_type": "markdown",
   "id": "dcba0349",
   "metadata": {},
   "source": [
    "Método para borrar un registro"
   ]
  },
  {
   "cell_type": "code",
   "execution_count": 37,
   "id": "dea4d6e2",
   "metadata": {},
   "outputs": [],
   "source": [
    "def sql_delete(con):\n",
    "    filtro1=input(\"¿Porque columna desea filtrar su busqueda para el borrado?\\nnombre\\nappellidos\\ntelefono\\n\")\n",
    "    filtro1=filtro1.lower()\n",
    "    resfiltro1=input(f\"Borrar filas que su {filtro1} sea =  \")\n",
    "    resfiltro1=resfiltro1.lower()\n",
    "\n",
    "    cursorObj = con.cursor()\n",
    "\n",
    "    print(\"Va a eliminar estos clientes: \")\n",
    "    try:\n",
    "        cursorObj.execute(f\"SELECT * FROM clientes where {filtro1} = '{resfiltro1}'\")\n",
    "        #[print(row) for row in cursorObj.fetchall()]\n",
    "\n",
    "        imprimir = []\n",
    "\n",
    "        nombreColum = list(map(lambda x: x[0], cursorObj.description))\n",
    "\n",
    "        for row in cursorObj.fetchall():\n",
    "            i = 0\n",
    "            cliente = []\n",
    "            for colums in row:\n",
    "                cliente.append(row[i])\n",
    "                i += 1\n",
    "            imprimir.append(cliente)\n",
    "        salida = tabulate(imprimir, headers=nombreColum)\n",
    "        print(salida)\n",
    "\n",
    "        seguro=input(\"\\n¿Esta usted seguro? s/n   \")\n",
    "\n",
    "        if(seguro==\"s\"):\n",
    "            cursorObj.execute(f\"DELETE FROM clientes where {filtro1} = '{resfiltro1}'\")\n",
    "            con.commit()\n",
    "            print(\"cliente/s eliminado/s\")\n",
    "    except:\n",
    "        print(\"Ha habido un error con los datos introducidos\")"
   ]
  },
  {
   "cell_type": "markdown",
   "id": "040ac720",
   "metadata": {},
   "source": [
    "Definimos un metodo llamado error por si surge un error en el menu que veremos ahora"
   ]
  },
  {
   "cell_type": "code",
   "execution_count": 38,
   "id": "1678b306",
   "metadata": {},
   "outputs": [],
   "source": [
    "def error():\n",
    "    print(\"Fatal Error\")"
   ]
  },
  {
   "cell_type": "markdown",
   "id": "418dd038",
   "metadata": {},
   "source": [
    "Método menú que le vamos a mostrar al usuario al principio del programa"
   ]
  },
  {
   "cell_type": "code",
   "execution_count": null,
   "id": "2b539f9b",
   "metadata": {},
   "outputs": [],
   "source": [
    "def menu(con):\n",
    "    decision=int(input(\"¿Que quieres hacer (Elija un numero del 1 al 5?\\n\"\n",
    "                    \"1-CREAR TABLA CLIENTES\\n\"\n",
    "                    \"2-AÑADIR UN CLIENTE\\n\"\n",
    "                    \"3-MODIFICAR UN CLIENTE\\n\"\n",
    "                    \"4-MOSTRAR LOS CLIENTES\\n\"\n",
    "                    \"5-BORRAR UN CLIENTE\\n\"))\n",
    "\n",
    "    switch_metodos={\n",
    "        1:sql_Creartabla,\n",
    "        2:sql_añadirCliente,\n",
    "        3:sql_update,\n",
    "        4:sql_select,\n",
    "        5:sql_delete\n",
    "    }\n",
    "    switch_metodos.get(decision, error)(con)"
   ]
  },
  {
   "cell_type": "markdown",
   "id": "7244bbcb",
   "metadata": {},
   "source": [
    "Llamamos al metodo sql_conection y al método menú y le pasamos como parametro la conexíon a la base de datos"
   ]
  },
  {
   "cell_type": "code",
   "execution_count": 46,
   "id": "8f23b373",
   "metadata": {},
   "outputs": [
    {
     "name": "stdout",
     "output_type": "stream",
     "text": [
      "¿Que quieres hacer (Elija un numero del 1 al 5?\n",
      "1-CREAR TABLA CLIENTES\n",
      "2-AÑADIR UN CLIENTE\n",
      "3-MODIFICAR UN CLIENTE\n",
      "4-MOSTRAR LOS CLIENTES\n",
      "5-BORRAR UN CLIENTE\n",
      "4\n",
      "Introduzca las columnas que desea ver separadas por',' o si quiere ver todo introduzca '*'\n",
      "*\n",
      "  id  nombre    apellidos      telefono\n",
      "----  --------  -----------  ----------\n",
      "   1  juan      perez         154896325\n"
     ]
    }
   ],
   "source": [
    "con = sql_connection()\n",
    "menu(con)"
   ]
  }
 ],
 "metadata": {
  "kernelspec": {
   "display_name": "Python 3",
   "language": "python",
   "name": "python3"
  },
  "language_info": {
   "codemirror_mode": {
    "name": "ipython",
    "version": 3
   },
   "file_extension": ".py",
   "mimetype": "text/x-python",
   "name": "python",
   "nbconvert_exporter": "python",
   "pygments_lexer": "ipython3",
   "version": "3.8.8"
  }
 },
 "nbformat": 4,
 "nbformat_minor": 5
}
